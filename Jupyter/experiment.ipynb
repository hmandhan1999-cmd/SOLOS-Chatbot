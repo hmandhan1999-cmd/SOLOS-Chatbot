{
 "cells": [
  {
   "cell_type": "code",
   "execution_count": 1,
   "id": "684784c0",
   "metadata": {},
   "outputs": [
    {
     "name": "stdout",
     "output_type": "stream",
     "text": [
      "OK\n"
     ]
    }
   ],
   "source": [
    "print(\"OK\")"
   ]
  },
  {
   "cell_type": "code",
   "execution_count": 2,
   "id": "d42c190c",
   "metadata": {},
   "outputs": [],
   "source": [
    "## Libraries"
   ]
  },
  {
   "cell_type": "code",
   "execution_count": 3,
   "id": "7e759294",
   "metadata": {},
   "outputs": [
    {
     "name": "stderr",
     "output_type": "stream",
     "text": [
      "c:\\Users\\HP\\OneDrive\\Desktop\\Langchain Chatbot Project 1\\Project\\SOLOS-Chatbot\\venv\\Lib\\site-packages\\tqdm\\auto.py:21: TqdmWarning: IProgress not found. Please update jupyter and ipywidgets. See https://ipywidgets.readthedocs.io/en/stable/user_install.html\n",
      "  from .autonotebook import tqdm as notebook_tqdm\n"
     ]
    }
   ],
   "source": [
    "from langchain.document_loaders import UnstructuredPDFLoader\n"
   ]
  },
  {
   "cell_type": "code",
   "execution_count": 3,
   "id": "785aee00",
   "metadata": {},
   "outputs": [
    {
     "name": "stderr",
     "output_type": "stream",
     "text": [
      "c:\\Users\\HP\\OneDrive\\Desktop\\Langchain Chatbot Project 1\\Project\\SOLOS-Chatbot\\venv\\Lib\\site-packages\\tqdm\\auto.py:21: TqdmWarning: IProgress not found. Please update jupyter and ipywidgets. See https://ipywidgets.readthedocs.io/en/stable/user_install.html\n",
      "  from .autonotebook import tqdm as notebook_tqdm\n"
     ]
    }
   ],
   "source": [
    "from langchain.document_loaders import UnstructuredPDFLoader"
   ]
  },
  {
   "cell_type": "code",
   "execution_count": 4,
   "id": "0faaf7e4",
   "metadata": {},
   "outputs": [],
   "source": [
    "from langchain.text_splitter import RecursiveCharacterTextSplitter"
   ]
  },
  {
   "cell_type": "code",
   "execution_count": null,
   "id": "8f9685aa",
   "metadata": {},
   "outputs": [],
   "source": [
    "loader=UnstructuredPDFLoader(r\"C:\\Users\\HP\\OneDrive\\Desktop\\Langchain Chatbot Project 1\\Project\\SOLOS-Chatbot\\data\\Corporate Sales deck.pdf\", strategy=\"hi\")"
   ]
  },
  {
   "cell_type": "code",
   "execution_count": 34,
   "id": "84abea6b",
   "metadata": {},
   "outputs": [
    {
     "name": "stdout",
     "output_type": "stream",
     "text": [
      "Warning: No languages specified, defaulting to English.\n"
     ]
    }
   ],
   "source": [
    "docs=loader.load()"
   ]
  },
  {
   "cell_type": "code",
   "execution_count": 35,
   "id": "bfb36556",
   "metadata": {},
   "outputs": [
    {
     "data": {
      "text/plain": [
       "[Document(metadata={'source': 'C:\\\\Users\\\\HP\\\\OneDrive\\\\Desktop\\\\Langchain Chatbot Project 1\\\\Project\\\\SOLOS-Chatbot\\\\data\\\\Corporate Sales deck.pdf'}, page_content='\\n\\nsellogs\\n\\nLogistics Operating: System\\n\\nEnhancing Supply Chain Efficeincy\\n\\nEvenzrack\\n\\nreightPro\\n\\nInvozase\\n\\nPlan\\n\\n© Sellogs Metamediary Solutions Pvt Ltd 2025\\n\\n\\n\\n1\\n\\nWHO WE ARE  • Founded in the year 2021.  SOLOS is a lean, agile, and modular digital platform.  • Developed by a logistician and technocrat,   combining the best of both worlds.  • Automates logistics processes seamlessly.  • Provides overall visibility of supply chain execution.  • A complete P2P solution offering: Visibility and   traceability of cost-to-serve.  •  10-15% savings on the cost of logistics acquisition.  •  Increased efficiency and optimization of   operations. \\n\\nWHO WE ARE\\n\\n• Founded in the year 2021.\\n\\nSOLOS is a lean, agile, and modular digital platform.\\n\\n• Developed by a logistician and technocrat,\\n\\ncombining the best of both worlds.\\n\\n• Automates logistics processes seamlessly.\\n\\n• A complete P2P solution offering: Visibility and\\n\\ntraceability of cost-to-serve.\\n\\n10-15% savings on the cost of logistics acquisition.\\n\\n• Increased efficiency and optimization of\\n\\noperations.\\n\\n© Sellogs Metamediary Solutions Pvt Ltd 2025\\n\\n\\n\\n2\\n\\nVISION  Passionate & Competent team of Logisticians building and delivering   constructive solutions ahead of time.  MISSION  To deliver world’s best Logistics Operating system preferred by Logisticians   around the world. \\n\\nPassionate & Competent team of Logisticians building and delivering\\n\\nconstructive solutions ahead of time.\\n\\naround the world.\\n\\n© Sellogs Metamediary Solutions Pvt Ltd 2025\\n\\n\\n\\n3\\n\\nooo the logistics operating system\\n\\nORGANOGRAM\\n\\nORGANOGRAM \\n\\nSellogs Board Prathima Vankadaru - CFO - Finance, Accounting & Compliance Ranjith Kedia - CEO - Business Strategy, Sales & Marketing Sreeram Kolisetty - MD - Product, Technology, Operations & HR\\n\\nRanjith Kedia - CEO\\n\\nSanskar Sanskar - Marketing Sales Sourav Suman\\n\\nPradeep Sivaraman - CTO Sajeesh - Amala Devi - Hemanth - Mohit - New Product Product Infrastructure Product Development & Development & Support & Development & Maintenance Support DevSecOps Support\\n\\nSreeram Kolisetty - MD Pradeep 7M Rahul - Sivaraman - reno Product & CTO Support Rekha Jawali - HR & General Administration\\n\\n© Sellogs Metamediary Solutions Pvt Ltd 2025\\n\\n4\\n\\nBuilt For  Logistics  Service Users  Connects to ERP/TMS/WMS \\n\\nSO}: ooo the logistics operating system\\n\\nthe logistics operating system\\n\\nthe logistics operating system\\n\\nFreight   Freight   Vendor  Freight  Freight  Planning  Operation  Discovery  Visibility  Audit \\n\\n\\n\\n\\n\\n\\n\\n\\n\\nES\\n\\nAutomated  Automated  Automated  Automated  Rated Vendor Network  Tracking of FTL/PTL  Self Invoicing Portal for 3PL  FTL/LTL suggestions  Vendor/Price Discovery  Overflow Demand fulfilment  GPS/SIM Card/iOT Track  Error Free Freight Invoice  Milk-Run/Drop Shipments  Contracting & Compliance  KYC Vetted Vendors  Delivery Performance Track  Digitally Audited  Multiple Pickup Routing  Gate/Yard/Dock Process  Assured Truck Placement  Interactive E-POD on WhatsApp  Loss/Damage/Claims workflow  Dynamic Route Planning  Gate Pass/ASN \\n\\nEvenfrack\\n\\nInvoEase\\n\\n[PLA\\n\\nHeightPro\\n\\nSE\\n\\n\\n\\n\\n\\n\\n\\n\\n\\nGeneral Trade Channel\\n\\n© Sellogs Metamediary Solutions Pvt Ltd 2025\\n\\n5\\n\\nDirect to Consumer\\n\\nRural Reach Channels\\n\\nModern Trade & Institutions\\n\\nTouch Points of SOLOS\\n\\nGoo the logistics operating system\\n\\nRight-Fit Truck Selection\\n\\n\\n\\n&\\n\\n\\n\\n\\n\\n\\n\\n\\n\\nMilk-Run/Drop Shipment FTL efficiency planning And Load Sequencing\\n\\n\\n\\n\\n\\n\\n\\n\\n\\n\\n\\n\\n\\n\\n\\n\\n\\n\\n\\n\\n\\n\\n\\n\\n\\n\\n\\n\\n\\n\\n\\n\\n\\n\\n\\n\\n\\n\\n\\n\\n\\n\\n\\nFixed/Dynamic Route Planning\\n\\n\\n\\nSelf Invoice Portal for\\n\\nShipment Profile and Load Split Options\\n\\nTransporters & Audited\\n\\nFreight Bills\\n\\n\\n\\n\\n\\nGeo-Fencing of Consignee Location & POD Trigger\\n\\nAuto Generated\\n\\nINVOICE = Oey,\\n\\n\\n\\n\\n\\n\\n\\n\\n\\n\\n\\n\\n\\nAuto Generated Consignment Note\\n\\n\\n\\n\\n\\nVendor\\n\\n\\n\\n\\n\\nInvozase\\n\\n\\n\\n\\n\\n\\n\\nAutomated Allocation based on Contract / Rating / Capacity\\n\\n\\n\\n\\n\\n\\n\\n\\n\\nMobile Based Scanning of Load Sheet\\n\\nDispatch Checklist\\n\\n© Sellogs Metamediary Solutions Pvt Ltd 2025\\n\\nDefault Tracking of FTL (GPS/GSM/iOT) PTL (Backend Integration)\\n\\nInteractive E POD on WhatsApp with Smart Contract on Block Chain. Powered By\\n\\n\\n\\n6\\n\\n+-------------------------+     |        AWS Cloud  - Deployed on AWS     |            +-------------------------+                  |         +-------------------+         |  Application Layer |     (PHP Laravel, Python Flask)         +-------------------+                  |    +----------------------------+    |        Front-End Layer      |   (HTML, JavaScript, jQuery)    +----------------------------+                  |         +----------------------+         |    Database Layer     |  (MySQL for relational, MongoDB for non-  relational)         +----------------------+ \\n\\nJavaScript\\n\\n\\n\\n\\n\\nUs | Laravel\\n\\n\\n\\nSS jQuery\\n\\n@ mongo\\n\\nMySQL.\\n\\n+----------------------+\\n\\n7\\n\\n$O:.0S a\\n\\nPRODUCT SCREENSHOTS\\n\\nInvoease - Vendor Payment  Tracking  \\n\\nDate: 30-May-2022 11:23 Mode / Type: @i /FTL Consignment: 4.78 T ETA: 270.2 KM/5 hours 35 mins GQP9+WJ Barial, Punjab, GQQ9+48 Barial, Punjab, india ADA . Afghanistan Pakistan 7 . Nepal , ° Kathmandu : ASS Punjab, india PRADESH Core, nited Arab Bangladesh Emirates ee Ripuwa GQQ9+2C Barial, Punjad, india 3 UJARAT © : °. H w NGA India B MiZONAM “ Ahmedabad ‘ > dun 2022 19:32 MEI F és * anaes Kolkata Myanmar ooeree. e (Burma) GOP9+\\' id Serial Punjab, india i 2.8 Ls : TELANGAN Hyderabod Psoerd\\n\\nINVOEASE @® AP-Provisior AP-Invoiced Disputes ents | Reports Vendor LASTMILE TRANSTECH Bangalore, Pincode: 400001 Email: lastmiledemo@mailinator.com Invoice Number Invoice Date Amount Payment Date Payment Amount Invoice012 23-Jan-2024 708.00 30-Mar-2024 708.00 Invoice2 23-Jan-2024 14,160.00 30-Mar-2024 14,000.00\\n\\nTracking\\n\\nGWC Global “13th Floor, B-Wing, Peninsula Business Park, Senapati Bapat Marg, Lower Parel (W), Mumbai, 400013 GATE PASS Gate Pass Number: GP00001124 Date/Time: 18-Jul-2022 08:02:09 Please allow the following items from the premises of GWC Global, Chennai Consignment (CN No. / Date Consignee / Location Qty (Boxes) Weight (Kgs) 5 6 1 1 tnvoice No. / Date: INVOICE123 / 18 Jut2022 05:30:00 KLT404 / 18-Jul-2022 Raghav Institute / Red Hills 10822-6A / 64 Smart Extension cord 3 Pin ( 4MTR) Truck Reg. No: AP13JJ1359 Driver Name/Phone: Aahish / 5678903276 This is an electronically generated document and does not require 9 signature\\n\\nGWC Global \"13th Floor, B-Wing, Peninsula Business Park, Senapati Bapat Marg, Lower Parel (W), Mumbai, 400013 ADVANCE SHIPMENT NOTIFICATION ASN Number: 4S00001132 Date/Time: 18-Jul-2022 08:02:02 The following items have been dispatched from the premises of GWC Global, Chennai to Raghav institute, Red Hills on 18-Jul-2022 08:02:02 Consignment CN No. / Date Consignee / Location ‘SKU No. / Name Qty (Boxes) Weight (Kgs) Invoice No. / Date: INVOICE123 / 18-Jul-2022 05:30:00 KLTA04 / 18-Jul-2022 Raghav Institute / Red Hills 10822-6A / 6A Smart Extension cord 3 Pin ( 4MTR) Truck Reg. No: AP13JJ1359 Driver Name/Phone: Ashish / 5678903276\\n\\n8\\n\\nMaster Control Tower  Logistics Operations  • Zone/Branch Depot wise Shipments   • Shipment Dispatch Status  • Transporter wise allocation  • of Shipments  • TAT performance reports  • Undelivered Shipment Status –Diagnostics  • Vendor Performance & Rating  • Convert Deviations into Trouble Tickets  • POD Status  •  Invoice Submission Status \\n\\nMaster Control Tower\\n\\nIBEGATTA\\n\\n• Zone/Branch Depot wise Shipments\\n\\neries completed by Month 7 : — | a - . i i i F : Se\\n\\n• of Shipments\\n\\n• Undelivered Shipment Status –Diagnostics\\n\\n• Convert Deviations into Trouble Tickets\\n\\n• POD Status\\n\\nInvoice Submission Status\\n\\n•\\n\\n© Sellogs Metamediary Solutions Pvt Ltd 2025\\n\\n\\n\\n9\\n\\nga a oo ooo the logistics opera ting system\\n\\nSOLOS – Benefits    Module  Benefits**  LoadPlan   Creates Optimized   3 – 30%  Shipment Profiles for   Cost Reduction  FTL/PTL/Milk Runs  Route Optimization  FreightPro  5 – 10%   Optimized Vendor/Price    Cost Reduction with   Discovery  Continuous   Improvement  Freight Ops Visibility  SOLOS   EvenTrack  Brand Promise   Multiple 3PL/Enterprise-  Delivery with   Wide Shipment Visibility  Predictive ETA  Interactive EPOD  InvoEase  Error Free Invoices  Paperless Digital   3 – 5 %  Invoices with Audited   Savings  Freight Bills  Powered By  © Sellogs Metamediary Solutions Pvt Ltd 2025 \\n\\nModule\\n\\nLoadPlan\\n\\n\\n\\nCreates Optimized Shipment Profiles for FTL/PTL/Milk Runs Route Optimization\\n\\n3 – 30% Cost Reduction\\n\\n\\n\\nFreightPro Optimized Vendor/Price Discovery Freight Ops Visibility\\n\\nCost Reduction with\\n\\nContinuous Improvement\\n\\nEvenTrack\\n\\nMultiple 3PL/Enterprise- Wide Shipment Visibility Interactive EPOD\\n\\nBrand Promise Delivery with Predictive ETA\\n\\n\\n\\nInvoEase Paperless Digital Invoices with Audited Freight Bills\\n\\nError Free Invoices\\n\\n3 – 5 %\\n\\n\\n\\nSavings\\n\\n© Sellogs Metamediary Solutions Pvt Ltd 2025\\n\\nPowered By\\n\\n\\n\\n10\\n\\nManage Enterprise-Wide Transportation using SOLOS\\n\\n\\n\\n\\n\\nMIDDLE MILE\\n\\nLAST MILE\\n\\n— a neon CDC\\n\\nPlan\\n\\nle Plan\\n\\nFreightPro\\n\\ntreightPto\\n\\nnv.\\n\\nles Plan\\n\\nHeightPro a\\n\\nEvenzrack\\n\\n\\n\\nSk\\n\\n:\\n\\nEvenzrack\\n\\nOrganized Retail houses & Institution like\\n\\nDefense canteens\\n\\nFulfilment center\\n\\nEen\\n\\naa >y sreightPro\\n\\nConsolidation\\n\\nWarehouse\\n\\nTire A outlets and\\n\\ndef it siz Miia\\n\\nStand alone retail\\n\\nSOLOS the logistics operating system\\n\\noutlets\\n\\nFreight Planning Vendor/Price Discovery Freight Operations Freight Visibility Freight Audit Freight Dashboards\\n\\n‘reightPro\\n\\nEven\\'rack\\n\\n\\n\\nl88GATTA\\n\\n© Sellogs Metamediary Solutions Pvt Ltd 2025\\n\\nInvozase\\n\\nTruck Load — FTL/PTL/Capability to run Milk Run Scenario SOLOS - Regional database of transporters in SFS\\n\\nVan Sales or Rural\\n\\nRetails shops\\n\\nbe.\\n\\nTruck Load — PTL/ Milk Run\\n\\nSOLOS - Best Fit Vehicle Suggestion, Consignment tracking by respective service providers; Delivery Aggregator App that has ability to handle COD and route planning; Vehicle, Delivery and Inventory tracking\\n\\nPowered By\\n\\n\\n\\nCLIENTS & TESTIMONIALS\\n\\nCLIENTS  & TESTIMONIALS  \"Partnering with Sellogs was a game-changer for us. Their user-  DIPAK SUBUDHY -   friendly platform allowed us to gain complete visibility over our supply   SUPPLY-CHAIN HEAD -   chain. From route optimization to on-time deliveries, every aspect of   RR KABEL LTD  our logistics has been enhanced. Thanks to Sellogs, we are now   meeting customer expectations better than ever before.\" \\n\\nKABEL WIRES & CABLES\\n\\n\\n\\n\"Partnering with Sellogs was a game-changer for us. Their user-\\n\\nfriendly platform allowed us to gain complete visibility over our supply\\n\\nchain. From route optimization to on-time deliveries, every aspect of\\n\\nour logistics has been enhanced. Thanks to Sellogs, we are now\\n\\nmeeting customer expectations better than ever before.\"\\n\\n\\n\\nG E §& F COCA-COLA COMPANY R fe) E AUTHORISED BOTTLER\\n\\ni. | | x\\n\\n© Sellogs Metamediary Solutions Pvt Ltd 2025\\n\\nooo the logistics operating system\\n\\n12\\n\\nTHANK YOU  \"SOLOS - THE SMART LOGISTICS OPERATING SYSTEM :   ENHANCING YOUR SUPPLY CHAIN EFFICIENCY.\" \\n\\nTHANK YOU\\n\\n\"SOLOS - THE SMART LOGISTICS OPERATING SYSTEM :\\n\\nENHANCING YOUR SUPPLY CHAIN EFFICIENCY.\"\\n\\n© Sellogs Metamediary Solutions Pvt Ltd 2025\\n\\n\\n\\n13')]"
      ]
     },
     "execution_count": 35,
     "metadata": {},
     "output_type": "execute_result"
    }
   ],
   "source": [
    "docs"
   ]
  },
  {
   "cell_type": "code",
   "execution_count": 36,
   "id": "7455aaac",
   "metadata": {},
   "outputs": [],
   "source": [
    "split=RecursiveCharacterTextSplitter(chunk_size=500, chunk_overlap=200)"
   ]
  },
  {
   "cell_type": "code",
   "execution_count": 37,
   "id": "149bac1f",
   "metadata": {},
   "outputs": [],
   "source": [
    "docs=split.split_documents(docs)"
   ]
  },
  {
   "cell_type": "code",
   "execution_count": 38,
   "id": "78adfbf5",
   "metadata": {},
   "outputs": [
    {
     "data": {
      "text/plain": [
       "[Document(metadata={'source': 'C:\\\\Users\\\\HP\\\\OneDrive\\\\Desktop\\\\Langchain Chatbot Project 1\\\\Project\\\\SOLOS-Chatbot\\\\data\\\\Corporate Sales deck.pdf'}, page_content='sellogs\\n\\nLogistics Operating: System\\n\\nEnhancing Supply Chain Efficeincy\\n\\nEvenzrack\\n\\nreightPro\\n\\nInvozase\\n\\nPlan\\n\\n© Sellogs Metamediary Solutions Pvt Ltd 2025\\n\\n\\n\\n1'),\n",
       " Document(metadata={'source': 'C:\\\\Users\\\\HP\\\\OneDrive\\\\Desktop\\\\Langchain Chatbot Project 1\\\\Project\\\\SOLOS-Chatbot\\\\data\\\\Corporate Sales deck.pdf'}, page_content='1\\n\\nWHO WE ARE  • Founded in the year 2021.  SOLOS is a lean, agile, and modular digital platform.  • Developed by a logistician and technocrat,   combining the best of both worlds.  • Automates logistics processes seamlessly.  • Provides overall visibility of supply chain execution.  • A complete P2P solution offering: Visibility and   traceability of cost-to-serve.  •  10-15% savings on the cost of logistics acquisition.  •  Increased efficiency and optimization of   operations.'),\n",
       " Document(metadata={'source': 'C:\\\\Users\\\\HP\\\\OneDrive\\\\Desktop\\\\Langchain Chatbot Project 1\\\\Project\\\\SOLOS-Chatbot\\\\data\\\\Corporate Sales deck.pdf'}, page_content='WHO WE ARE\\n\\n• Founded in the year 2021.\\n\\nSOLOS is a lean, agile, and modular digital platform.\\n\\n• Developed by a logistician and technocrat,\\n\\ncombining the best of both worlds.\\n\\n• Automates logistics processes seamlessly.\\n\\n• A complete P2P solution offering: Visibility and\\n\\ntraceability of cost-to-serve.\\n\\n10-15% savings on the cost of logistics acquisition.\\n\\n• Increased efficiency and optimization of\\n\\noperations.\\n\\n© Sellogs Metamediary Solutions Pvt Ltd 2025\\n\\n\\n\\n2'),\n",
       " Document(metadata={'source': 'C:\\\\Users\\\\HP\\\\OneDrive\\\\Desktop\\\\Langchain Chatbot Project 1\\\\Project\\\\SOLOS-Chatbot\\\\data\\\\Corporate Sales deck.pdf'}, page_content='traceability of cost-to-serve.\\n\\n10-15% savings on the cost of logistics acquisition.\\n\\n• Increased efficiency and optimization of\\n\\noperations.\\n\\n© Sellogs Metamediary Solutions Pvt Ltd 2025\\n\\n\\n\\n2\\n\\nVISION  Passionate & Competent team of Logisticians building and delivering   constructive solutions ahead of time.  MISSION  To deliver world’s best Logistics Operating system preferred by Logisticians   around the world. \\n\\nPassionate & Competent team of Logisticians building and delivering'),\n",
       " Document(metadata={'source': 'C:\\\\Users\\\\HP\\\\OneDrive\\\\Desktop\\\\Langchain Chatbot Project 1\\\\Project\\\\SOLOS-Chatbot\\\\data\\\\Corporate Sales deck.pdf'}, page_content='Passionate & Competent team of Logisticians building and delivering\\n\\nconstructive solutions ahead of time.\\n\\naround the world.\\n\\n© Sellogs Metamediary Solutions Pvt Ltd 2025\\n\\n\\n\\n3\\n\\nooo the logistics operating system\\n\\nORGANOGRAM\\n\\nORGANOGRAM \\n\\nSellogs Board Prathima Vankadaru - CFO - Finance, Accounting & Compliance Ranjith Kedia - CEO - Business Strategy, Sales & Marketing Sreeram Kolisetty - MD - Product, Technology, Operations & HR\\n\\nRanjith Kedia - CEO'),\n",
       " Document(metadata={'source': 'C:\\\\Users\\\\HP\\\\OneDrive\\\\Desktop\\\\Langchain Chatbot Project 1\\\\Project\\\\SOLOS-Chatbot\\\\data\\\\Corporate Sales deck.pdf'}, page_content='Ranjith Kedia - CEO\\n\\nSanskar Sanskar - Marketing Sales Sourav Suman\\n\\nPradeep Sivaraman - CTO Sajeesh - Amala Devi - Hemanth - Mohit - New Product Product Infrastructure Product Development & Development & Support & Development & Maintenance Support DevSecOps Support\\n\\nSreeram Kolisetty - MD Pradeep 7M Rahul - Sivaraman - reno Product & CTO Support Rekha Jawali - HR & General Administration\\n\\n© Sellogs Metamediary Solutions Pvt Ltd 2025\\n\\n4'),\n",
       " Document(metadata={'source': 'C:\\\\Users\\\\HP\\\\OneDrive\\\\Desktop\\\\Langchain Chatbot Project 1\\\\Project\\\\SOLOS-Chatbot\\\\data\\\\Corporate Sales deck.pdf'}, page_content='Sreeram Kolisetty - MD Pradeep 7M Rahul - Sivaraman - reno Product & CTO Support Rekha Jawali - HR & General Administration\\n\\n© Sellogs Metamediary Solutions Pvt Ltd 2025\\n\\n4\\n\\nBuilt For  Logistics  Service Users  Connects to ERP/TMS/WMS \\n\\nSO}: ooo the logistics operating system\\n\\nthe logistics operating system\\n\\nthe logistics operating system\\n\\nFreight   Freight   Vendor  Freight  Freight  Planning  Operation  Discovery  Visibility  Audit \\n\\n\\n\\n\\n\\n\\n\\n\\n\\nES'),\n",
       " Document(metadata={'source': 'C:\\\\Users\\\\HP\\\\OneDrive\\\\Desktop\\\\Langchain Chatbot Project 1\\\\Project\\\\SOLOS-Chatbot\\\\data\\\\Corporate Sales deck.pdf'}, page_content='Automated  Automated  Automated  Automated  Rated Vendor Network  Tracking of FTL/PTL  Self Invoicing Portal for 3PL  FTL/LTL suggestions  Vendor/Price Discovery  Overflow Demand fulfilment  GPS/SIM Card/iOT Track  Error Free Freight Invoice  Milk-Run/Drop Shipments  Contracting & Compliance  KYC Vetted Vendors  Delivery Performance Track  Digitally Audited  Multiple Pickup Routing  Gate/Yard/Dock Process  Assured Truck Placement  Interactive E-POD on WhatsApp  Loss/Damage/Claims workflow'),\n",
       " Document(metadata={'source': 'C:\\\\Users\\\\HP\\\\OneDrive\\\\Desktop\\\\Langchain Chatbot Project 1\\\\Project\\\\SOLOS-Chatbot\\\\data\\\\Corporate Sales deck.pdf'}, page_content='Vetted Vendors  Delivery Performance Track  Digitally Audited  Multiple Pickup Routing  Gate/Yard/Dock Process  Assured Truck Placement  Interactive E-POD on WhatsApp  Loss/Damage/Claims workflow  Dynamic Route Planning  Gate Pass/ASN'),\n",
       " Document(metadata={'source': 'C:\\\\Users\\\\HP\\\\OneDrive\\\\Desktop\\\\Langchain Chatbot Project 1\\\\Project\\\\SOLOS-Chatbot\\\\data\\\\Corporate Sales deck.pdf'}, page_content='Evenfrack\\n\\nInvoEase\\n\\n[PLA\\n\\nHeightPro\\n\\nSE\\n\\n\\n\\n\\n\\n\\n\\n\\n\\nGeneral Trade Channel\\n\\n© Sellogs Metamediary Solutions Pvt Ltd 2025\\n\\n5\\n\\nDirect to Consumer\\n\\nRural Reach Channels\\n\\nModern Trade & Institutions\\n\\nTouch Points of SOLOS\\n\\nGoo the logistics operating system\\n\\nRight-Fit Truck Selection\\n\\n\\n\\n&\\n\\n\\n\\n\\n\\n\\n\\n\\n\\nMilk-Run/Drop Shipment FTL efficiency planning And Load Sequencing\\n\\n\\n\\n\\n\\n\\n\\n\\n\\n\\n\\n\\n\\n\\n\\n\\n\\n\\n\\n\\n\\n\\n\\n\\n\\n\\n\\n\\n\\n\\n\\n\\n\\n\\n\\n\\n\\n\\n\\n\\n\\n\\n\\nFixed/Dynamic Route Planning\\n\\n\\n\\nSelf Invoice Portal for\\n\\nShipment Profile and Load Split Options'),\n",
       " Document(metadata={'source': 'C:\\\\Users\\\\HP\\\\OneDrive\\\\Desktop\\\\Langchain Chatbot Project 1\\\\Project\\\\SOLOS-Chatbot\\\\data\\\\Corporate Sales deck.pdf'}, page_content='Fixed/Dynamic Route Planning\\n\\n\\n\\nSelf Invoice Portal for\\n\\nShipment Profile and Load Split Options\\n\\nTransporters & Audited\\n\\nFreight Bills\\n\\n\\n\\n\\n\\nGeo-Fencing of Consignee Location & POD Trigger\\n\\nAuto Generated\\n\\nINVOICE = Oey,\\n\\n\\n\\n\\n\\n\\n\\n\\n\\n\\n\\n\\n\\nAuto Generated Consignment Note\\n\\n\\n\\n\\n\\nVendor\\n\\n\\n\\n\\n\\nInvozase\\n\\n\\n\\n\\n\\n\\n\\nAutomated Allocation based on Contract / Rating / Capacity\\n\\n\\n\\n\\n\\n\\n\\n\\n\\nMobile Based Scanning of Load Sheet\\n\\nDispatch Checklist'),\n",
       " Document(metadata={'source': 'C:\\\\Users\\\\HP\\\\OneDrive\\\\Desktop\\\\Langchain Chatbot Project 1\\\\Project\\\\SOLOS-Chatbot\\\\data\\\\Corporate Sales deck.pdf'}, page_content='Auto Generated Consignment Note\\n\\n\\n\\n\\n\\nVendor\\n\\n\\n\\n\\n\\nInvozase\\n\\n\\n\\n\\n\\n\\n\\nAutomated Allocation based on Contract / Rating / Capacity\\n\\n\\n\\n\\n\\n\\n\\n\\n\\nMobile Based Scanning of Load Sheet\\n\\nDispatch Checklist\\n\\n© Sellogs Metamediary Solutions Pvt Ltd 2025\\n\\nDefault Tracking of FTL (GPS/GSM/iOT) PTL (Backend Integration)\\n\\nInteractive E POD on WhatsApp with Smart Contract on Block Chain. Powered By\\n\\n\\n\\n6'),\n",
       " Document(metadata={'source': 'C:\\\\Users\\\\HP\\\\OneDrive\\\\Desktop\\\\Langchain Chatbot Project 1\\\\Project\\\\SOLOS-Chatbot\\\\data\\\\Corporate Sales deck.pdf'}, page_content='+-------------------------+     |        AWS Cloud  - Deployed on AWS     |            +-------------------------+                  |         +-------------------+         |  Application Layer |     (PHP Laravel, Python Flask)         +-------------------+                  |    +----------------------------+    |        Front-End Layer      |   (HTML, JavaScript, jQuery)    +----------------------------+                  |         +----------------------+         |    Database Layer     |'),\n",
       " Document(metadata={'source': 'C:\\\\Users\\\\HP\\\\OneDrive\\\\Desktop\\\\Langchain Chatbot Project 1\\\\Project\\\\SOLOS-Chatbot\\\\data\\\\Corporate Sales deck.pdf'}, page_content='|        Front-End Layer      |   (HTML, JavaScript, jQuery)    +----------------------------+                  |         +----------------------+         |    Database Layer     |  (MySQL for relational, MongoDB for non-  relational)         +----------------------+'),\n",
       " Document(metadata={'source': 'C:\\\\Users\\\\HP\\\\OneDrive\\\\Desktop\\\\Langchain Chatbot Project 1\\\\Project\\\\SOLOS-Chatbot\\\\data\\\\Corporate Sales deck.pdf'}, page_content='JavaScript\\n\\n\\n\\n\\n\\nUs | Laravel\\n\\n\\n\\nSS jQuery\\n\\n@ mongo\\n\\nMySQL.\\n\\n+----------------------+\\n\\n7\\n\\n$O:.0S a\\n\\nPRODUCT SCREENSHOTS\\n\\nInvoease - Vendor Payment  Tracking'),\n",
       " Document(metadata={'source': 'C:\\\\Users\\\\HP\\\\OneDrive\\\\Desktop\\\\Langchain Chatbot Project 1\\\\Project\\\\SOLOS-Chatbot\\\\data\\\\Corporate Sales deck.pdf'}, page_content=\"Date: 30-May-2022 11:23 Mode / Type: @i /FTL Consignment: 4.78 T ETA: 270.2 KM/5 hours 35 mins GQP9+WJ Barial, Punjab, GQQ9+48 Barial, Punjab, india ADA . Afghanistan Pakistan 7 . Nepal , ° Kathmandu : ASS Punjab, india PRADESH Core, nited Arab Bangladesh Emirates ee Ripuwa GQQ9+2C Barial, Punjad, india 3 UJARAT © : °. H w NGA India B MiZONAM “ Ahmedabad ‘ > dun 2022 19:32 MEI F és * anaes Kolkata Myanmar ooeree. e (Burma) GOP9+' id Serial Punjab, india i 2.8 Ls : TELANGAN Hyderabod Psoerd\"),\n",
       " Document(metadata={'source': 'C:\\\\Users\\\\HP\\\\OneDrive\\\\Desktop\\\\Langchain Chatbot Project 1\\\\Project\\\\SOLOS-Chatbot\\\\data\\\\Corporate Sales deck.pdf'}, page_content='INVOEASE @® AP-Provisior AP-Invoiced Disputes ents | Reports Vendor LASTMILE TRANSTECH Bangalore, Pincode: 400001 Email: lastmiledemo@mailinator.com Invoice Number Invoice Date Amount Payment Date Payment Amount Invoice012 23-Jan-2024 708.00 30-Mar-2024 708.00 Invoice2 23-Jan-2024 14,160.00 30-Mar-2024 14,000.00\\n\\nTracking'),\n",
       " Document(metadata={'source': 'C:\\\\Users\\\\HP\\\\OneDrive\\\\Desktop\\\\Langchain Chatbot Project 1\\\\Project\\\\SOLOS-Chatbot\\\\data\\\\Corporate Sales deck.pdf'}, page_content='GWC Global “13th Floor, B-Wing, Peninsula Business Park, Senapati Bapat Marg, Lower Parel (W), Mumbai, 400013 GATE PASS Gate Pass Number: GP00001124 Date/Time: 18-Jul-2022 08:02:09 Please allow the following items from the premises of GWC Global, Chennai Consignment (CN No. / Date Consignee / Location Qty (Boxes) Weight (Kgs) 5 6 1 1 tnvoice No. / Date: INVOICE123 / 18 Jut2022 05:30:00 KLT404 / 18-Jul-2022 Raghav Institute / Red Hills 10822-6A / 64 Smart Extension cord 3 Pin ( 4MTR) Truck Reg.'),\n",
       " Document(metadata={'source': 'C:\\\\Users\\\\HP\\\\OneDrive\\\\Desktop\\\\Langchain Chatbot Project 1\\\\Project\\\\SOLOS-Chatbot\\\\data\\\\Corporate Sales deck.pdf'}, page_content='Qty (Boxes) Weight (Kgs) 5 6 1 1 tnvoice No. / Date: INVOICE123 / 18 Jut2022 05:30:00 KLT404 / 18-Jul-2022 Raghav Institute / Red Hills 10822-6A / 64 Smart Extension cord 3 Pin ( 4MTR) Truck Reg. No: AP13JJ1359 Driver Name/Phone: Aahish / 5678903276 This is an electronically generated document and does not require 9 signature'),\n",
       " Document(metadata={'source': 'C:\\\\Users\\\\HP\\\\OneDrive\\\\Desktop\\\\Langchain Chatbot Project 1\\\\Project\\\\SOLOS-Chatbot\\\\data\\\\Corporate Sales deck.pdf'}, page_content='GWC Global \"13th Floor, B-Wing, Peninsula Business Park, Senapati Bapat Marg, Lower Parel (W), Mumbai, 400013 ADVANCE SHIPMENT NOTIFICATION ASN Number: 4S00001132 Date/Time: 18-Jul-2022 08:02:02 The following items have been dispatched from the premises of GWC Global, Chennai to Raghav institute, Red Hills on 18-Jul-2022 08:02:02 Consignment CN No. / Date Consignee / Location ‘SKU No. / Name Qty (Boxes) Weight (Kgs) Invoice No. / Date: INVOICE123 / 18-Jul-2022 05:30:00 KLTA04 / 18-Jul-2022'),\n",
       " Document(metadata={'source': 'C:\\\\Users\\\\HP\\\\OneDrive\\\\Desktop\\\\Langchain Chatbot Project 1\\\\Project\\\\SOLOS-Chatbot\\\\data\\\\Corporate Sales deck.pdf'}, page_content='Red Hills on 18-Jul-2022 08:02:02 Consignment CN No. / Date Consignee / Location ‘SKU No. / Name Qty (Boxes) Weight (Kgs) Invoice No. / Date: INVOICE123 / 18-Jul-2022 05:30:00 KLTA04 / 18-Jul-2022 Raghav Institute / Red Hills 10822-6A / 6A Smart Extension cord 3 Pin ( 4MTR) Truck Reg. No: AP13JJ1359 Driver Name/Phone: Ashish / 5678903276'),\n",
       " Document(metadata={'source': 'C:\\\\Users\\\\HP\\\\OneDrive\\\\Desktop\\\\Langchain Chatbot Project 1\\\\Project\\\\SOLOS-Chatbot\\\\data\\\\Corporate Sales deck.pdf'}, page_content='8\\n\\nMaster Control Tower  Logistics Operations  • Zone/Branch Depot wise Shipments   • Shipment Dispatch Status  • Transporter wise allocation  • of Shipments  • TAT performance reports  • Undelivered Shipment Status –Diagnostics  • Vendor Performance & Rating  • Convert Deviations into Trouble Tickets  • POD Status  •  Invoice Submission Status \\n\\nMaster Control Tower\\n\\nIBEGATTA\\n\\n• Zone/Branch Depot wise Shipments\\n\\neries completed by Month 7 : — | a - . i i i F : Se\\n\\n• of Shipments'),\n",
       " Document(metadata={'source': 'C:\\\\Users\\\\HP\\\\OneDrive\\\\Desktop\\\\Langchain Chatbot Project 1\\\\Project\\\\SOLOS-Chatbot\\\\data\\\\Corporate Sales deck.pdf'}, page_content='Master Control Tower\\n\\nIBEGATTA\\n\\n• Zone/Branch Depot wise Shipments\\n\\neries completed by Month 7 : — | a - . i i i F : Se\\n\\n• of Shipments\\n\\n• Undelivered Shipment Status –Diagnostics\\n\\n• Convert Deviations into Trouble Tickets\\n\\n• POD Status\\n\\nInvoice Submission Status\\n\\n•\\n\\n© Sellogs Metamediary Solutions Pvt Ltd 2025\\n\\n\\n\\n9\\n\\nga a oo ooo the logistics opera ting system'),\n",
       " Document(metadata={'source': 'C:\\\\Users\\\\HP\\\\OneDrive\\\\Desktop\\\\Langchain Chatbot Project 1\\\\Project\\\\SOLOS-Chatbot\\\\data\\\\Corporate Sales deck.pdf'}, page_content='SOLOS – Benefits    Module  Benefits**  LoadPlan   Creates Optimized   3 – 30%  Shipment Profiles for   Cost Reduction  FTL/PTL/Milk Runs  Route Optimization  FreightPro  5 – 10%   Optimized Vendor/Price    Cost Reduction with   Discovery  Continuous   Improvement  Freight Ops Visibility  SOLOS   EvenTrack  Brand Promise   Multiple 3PL/Enterprise-  Delivery with   Wide Shipment Visibility  Predictive ETA  Interactive EPOD  InvoEase  Error Free Invoices  Paperless Digital   3 – 5 %  Invoices'),\n",
       " Document(metadata={'source': 'C:\\\\Users\\\\HP\\\\OneDrive\\\\Desktop\\\\Langchain Chatbot Project 1\\\\Project\\\\SOLOS-Chatbot\\\\data\\\\Corporate Sales deck.pdf'}, page_content='EvenTrack  Brand Promise   Multiple 3PL/Enterprise-  Delivery with   Wide Shipment Visibility  Predictive ETA  Interactive EPOD  InvoEase  Error Free Invoices  Paperless Digital   3 – 5 %  Invoices with Audited   Savings  Freight Bills  Powered By  © Sellogs Metamediary Solutions Pvt Ltd 2025'),\n",
       " Document(metadata={'source': 'C:\\\\Users\\\\HP\\\\OneDrive\\\\Desktop\\\\Langchain Chatbot Project 1\\\\Project\\\\SOLOS-Chatbot\\\\data\\\\Corporate Sales deck.pdf'}, page_content='Module\\n\\nLoadPlan\\n\\n\\n\\nCreates Optimized Shipment Profiles for FTL/PTL/Milk Runs Route Optimization\\n\\n3 – 30% Cost Reduction\\n\\n\\n\\nFreightPro Optimized Vendor/Price Discovery Freight Ops Visibility\\n\\nCost Reduction with\\n\\nContinuous Improvement\\n\\nEvenTrack\\n\\nMultiple 3PL/Enterprise- Wide Shipment Visibility Interactive EPOD\\n\\nBrand Promise Delivery with Predictive ETA\\n\\n\\n\\nInvoEase Paperless Digital Invoices with Audited Freight Bills\\n\\nError Free Invoices\\n\\n3 – 5 %\\n\\n\\n\\nSavings'),\n",
       " Document(metadata={'source': 'C:\\\\Users\\\\HP\\\\OneDrive\\\\Desktop\\\\Langchain Chatbot Project 1\\\\Project\\\\SOLOS-Chatbot\\\\data\\\\Corporate Sales deck.pdf'}, page_content='Brand Promise Delivery with Predictive ETA\\n\\n\\n\\nInvoEase Paperless Digital Invoices with Audited Freight Bills\\n\\nError Free Invoices\\n\\n3 – 5 %\\n\\n\\n\\nSavings\\n\\n© Sellogs Metamediary Solutions Pvt Ltd 2025\\n\\nPowered By\\n\\n\\n\\n10\\n\\nManage Enterprise-Wide Transportation using SOLOS\\n\\n\\n\\n\\n\\nMIDDLE MILE\\n\\nLAST MILE\\n\\n— a neon CDC\\n\\nPlan\\n\\nle Plan\\n\\nFreightPro\\n\\ntreightPto\\n\\nnv.\\n\\nles Plan\\n\\nHeightPro a\\n\\nEvenzrack\\n\\n\\n\\nSk\\n\\n:\\n\\nEvenzrack\\n\\nOrganized Retail houses & Institution like\\n\\nDefense canteens\\n\\nFulfilment center\\n\\nEen'),\n",
       " Document(metadata={'source': 'C:\\\\Users\\\\HP\\\\OneDrive\\\\Desktop\\\\Langchain Chatbot Project 1\\\\Project\\\\SOLOS-Chatbot\\\\data\\\\Corporate Sales deck.pdf'}, page_content=\"— a neon CDC\\n\\nPlan\\n\\nle Plan\\n\\nFreightPro\\n\\ntreightPto\\n\\nnv.\\n\\nles Plan\\n\\nHeightPro a\\n\\nEvenzrack\\n\\n\\n\\nSk\\n\\n:\\n\\nEvenzrack\\n\\nOrganized Retail houses & Institution like\\n\\nDefense canteens\\n\\nFulfilment center\\n\\nEen\\n\\naa >y sreightPro\\n\\nConsolidation\\n\\nWarehouse\\n\\nTire A outlets and\\n\\ndef it siz Miia\\n\\nStand alone retail\\n\\nSOLOS the logistics operating system\\n\\noutlets\\n\\nFreight Planning Vendor/Price Discovery Freight Operations Freight Visibility Freight Audit Freight Dashboards\\n\\n‘reightPro\\n\\nEven'rack\\n\\n\\n\\nl88GATTA\"),\n",
       " Document(metadata={'source': 'C:\\\\Users\\\\HP\\\\OneDrive\\\\Desktop\\\\Langchain Chatbot Project 1\\\\Project\\\\SOLOS-Chatbot\\\\data\\\\Corporate Sales deck.pdf'}, page_content=\"SOLOS the logistics operating system\\n\\noutlets\\n\\nFreight Planning Vendor/Price Discovery Freight Operations Freight Visibility Freight Audit Freight Dashboards\\n\\n‘reightPro\\n\\nEven'rack\\n\\n\\n\\nl88GATTA\\n\\n© Sellogs Metamediary Solutions Pvt Ltd 2025\\n\\nInvozase\\n\\nTruck Load — FTL/PTL/Capability to run Milk Run Scenario SOLOS - Regional database of transporters in SFS\\n\\nVan Sales or Rural\\n\\nRetails shops\\n\\nbe.\\n\\nTruck Load — PTL/ Milk Run\"),\n",
       " Document(metadata={'source': 'C:\\\\Users\\\\HP\\\\OneDrive\\\\Desktop\\\\Langchain Chatbot Project 1\\\\Project\\\\SOLOS-Chatbot\\\\data\\\\Corporate Sales deck.pdf'}, page_content='Invozase\\n\\nTruck Load — FTL/PTL/Capability to run Milk Run Scenario SOLOS - Regional database of transporters in SFS\\n\\nVan Sales or Rural\\n\\nRetails shops\\n\\nbe.\\n\\nTruck Load — PTL/ Milk Run\\n\\nSOLOS - Best Fit Vehicle Suggestion, Consignment tracking by respective service providers; Delivery Aggregator App that has ability to handle COD and route planning; Vehicle, Delivery and Inventory tracking\\n\\nPowered By\\n\\n\\n\\nCLIENTS & TESTIMONIALS'),\n",
       " Document(metadata={'source': 'C:\\\\Users\\\\HP\\\\OneDrive\\\\Desktop\\\\Langchain Chatbot Project 1\\\\Project\\\\SOLOS-Chatbot\\\\data\\\\Corporate Sales deck.pdf'}, page_content='Powered By\\n\\n\\n\\nCLIENTS & TESTIMONIALS\\n\\nCLIENTS  & TESTIMONIALS  \"Partnering with Sellogs was a game-changer for us. Their user-  DIPAK SUBUDHY -   friendly platform allowed us to gain complete visibility over our supply   SUPPLY-CHAIN HEAD -   chain. From route optimization to on-time deliveries, every aspect of   RR KABEL LTD  our logistics has been enhanced. Thanks to Sellogs, we are now   meeting customer expectations better than ever before.\" \\n\\nKABEL WIRES & CABLES'),\n",
       " Document(metadata={'source': 'C:\\\\Users\\\\HP\\\\OneDrive\\\\Desktop\\\\Langchain Chatbot Project 1\\\\Project\\\\SOLOS-Chatbot\\\\data\\\\Corporate Sales deck.pdf'}, page_content='KABEL WIRES & CABLES\\n\\n\\n\\n\"Partnering with Sellogs was a game-changer for us. Their user-\\n\\nfriendly platform allowed us to gain complete visibility over our supply\\n\\nchain. From route optimization to on-time deliveries, every aspect of\\n\\nour logistics has been enhanced. Thanks to Sellogs, we are now\\n\\nmeeting customer expectations better than ever before.\"\\n\\n\\n\\nG E §& F COCA-COLA COMPANY R fe) E AUTHORISED BOTTLER\\n\\ni. | | x\\n\\n© Sellogs Metamediary Solutions Pvt Ltd 2025'),\n",
       " Document(metadata={'source': 'C:\\\\Users\\\\HP\\\\OneDrive\\\\Desktop\\\\Langchain Chatbot Project 1\\\\Project\\\\SOLOS-Chatbot\\\\data\\\\Corporate Sales deck.pdf'}, page_content='meeting customer expectations better than ever before.\"\\n\\n\\n\\nG E §& F COCA-COLA COMPANY R fe) E AUTHORISED BOTTLER\\n\\ni. | | x\\n\\n© Sellogs Metamediary Solutions Pvt Ltd 2025\\n\\nooo the logistics operating system\\n\\n12\\n\\nTHANK YOU  \"SOLOS - THE SMART LOGISTICS OPERATING SYSTEM :   ENHANCING YOUR SUPPLY CHAIN EFFICIENCY.\" \\n\\nTHANK YOU\\n\\n\"SOLOS - THE SMART LOGISTICS OPERATING SYSTEM :\\n\\nENHANCING YOUR SUPPLY CHAIN EFFICIENCY.\"\\n\\n© Sellogs Metamediary Solutions Pvt Ltd 2025\\n\\n\\n\\n13')]"
      ]
     },
     "execution_count": 38,
     "metadata": {},
     "output_type": "execute_result"
    }
   ],
   "source": [
    "docs"
   ]
  },
  {
   "cell_type": "code",
   "execution_count": 11,
   "id": "77083677",
   "metadata": {},
   "outputs": [],
   "source": [
    "from langchain_community.vectorstores import FAISS\n",
    "from langchain.embeddings import SentenceTransformerEmbeddings"
   ]
  },
  {
   "cell_type": "code",
   "execution_count": 39,
   "id": "d47791ad",
   "metadata": {},
   "outputs": [],
   "source": [
    "embeddings=SentenceTransformerEmbeddings(model_name=\"all-MiniLM-L6-v2\")"
   ]
  },
  {
   "cell_type": "code",
   "execution_count": 40,
   "id": "175889aa",
   "metadata": {},
   "outputs": [],
   "source": [
    "db=FAISS.from_documents(docs, embeddings)"
   ]
  },
  {
   "cell_type": "code",
   "execution_count": 15,
   "id": "b14d210d",
   "metadata": {},
   "outputs": [
    {
     "data": {
      "text/plain": [
       "<langchain_community.vectorstores.faiss.FAISS at 0x147d31227b0>"
      ]
     },
     "execution_count": 15,
     "metadata": {},
     "output_type": "execute_result"
    }
   ],
   "source": [
    "db"
   ]
  },
  {
   "cell_type": "code",
   "execution_count": 17,
   "id": "87fd1601",
   "metadata": {},
   "outputs": [],
   "source": [
    "embed=embeddings.embed_query(\"Hello How Are You\")"
   ]
  },
  {
   "cell_type": "code",
   "execution_count": 18,
   "id": "0d5cd130",
   "metadata": {},
   "outputs": [
    {
     "data": {
      "text/plain": [
       "384"
      ]
     },
     "execution_count": 18,
     "metadata": {},
     "output_type": "execute_result"
    }
   ],
   "source": [
    "len(embed)"
   ]
  },
  {
   "cell_type": "code",
   "execution_count": 20,
   "id": "8ce6f596",
   "metadata": {},
   "outputs": [],
   "source": [
    "from langchain_core.prompts import ChatPromptTemplate\n",
    "from langchain_ollama import ChatOllama"
   ]
  },
  {
   "cell_type": "markdown",
   "id": "f238018a",
   "metadata": {},
   "source": []
  },
  {
   "cell_type": "code",
   "execution_count": 21,
   "id": "36d65c21",
   "metadata": {},
   "outputs": [],
   "source": [
    "from langchain.chains.combine_documents import create_stuff_documents_chain"
   ]
  },
  {
   "cell_type": "code",
   "execution_count": 59,
   "id": "25f3f152",
   "metadata": {},
   "outputs": [],
   "source": [
    "llm=ChatOllama(model=\"llama2:7b-chat\", max_tokens=1000)"
   ]
  },
  {
   "cell_type": "code",
   "execution_count": 50,
   "id": "43e52d6c",
   "metadata": {},
   "outputs": [],
   "source": [
    "retreiver= db.as_retriever(search_type=\"similarity\", search_kwargs={\"k\": 2})"
   ]
  },
  {
   "cell_type": "code",
   "execution_count": 25,
   "id": "4c70b7cf",
   "metadata": {},
   "outputs": [],
   "source": [
    "from langchain.chains import create_retrieval_chain"
   ]
  },
  {
   "cell_type": "code",
   "execution_count": 51,
   "id": "bde1b6ed",
   "metadata": {},
   "outputs": [],
   "source": [
    "prompt=ChatPromptTemplate.from_template(\"Answer based only on the information below, \" \\\n",
    "\"context: {context}, \" \\\n",
    "\"question: {input}\")"
   ]
  },
  {
   "cell_type": "code",
   "execution_count": 60,
   "id": "38d284d0",
   "metadata": {},
   "outputs": [],
   "source": [
    "chain=create_stuff_documents_chain(llm, prompt)"
   ]
  },
  {
   "cell_type": "code",
   "execution_count": 53,
   "id": "b1f63959",
   "metadata": {},
   "outputs": [
    {
     "data": {
      "text/plain": [
       "[Document(id='bbb37056-4b43-4192-89b8-dc8f33417790', metadata={'source': 'C:\\\\Users\\\\HP\\\\OneDrive\\\\Desktop\\\\Langchain Chatbot Project 1\\\\Project\\\\SOLOS-Chatbot\\\\data\\\\Corporate Sales deck.pdf'}, page_content='Passionate & Competent team of Logisticians building and delivering\\n\\nconstructive solutions ahead of time.\\n\\naround the world.\\n\\n© Sellogs Metamediary Solutions Pvt Ltd 2025\\n\\n\\n\\n3\\n\\nooo the logistics operating system\\n\\nORGANOGRAM\\n\\nORGANOGRAM \\n\\nSellogs Board Prathima Vankadaru - CFO - Finance, Accounting & Compliance Ranjith Kedia - CEO - Business Strategy, Sales & Marketing Sreeram Kolisetty - MD - Product, Technology, Operations & HR\\n\\nRanjith Kedia - CEO'),\n",
       " Document(id='658cd677-86d5-4661-9070-b78b4933a782', metadata={'source': 'C:\\\\Users\\\\HP\\\\OneDrive\\\\Desktop\\\\Langchain Chatbot Project 1\\\\Project\\\\SOLOS-Chatbot\\\\data\\\\Corporate Sales deck.pdf'}, page_content='Ranjith Kedia - CEO\\n\\nSanskar Sanskar - Marketing Sales Sourav Suman\\n\\nPradeep Sivaraman - CTO Sajeesh - Amala Devi - Hemanth - Mohit - New Product Product Infrastructure Product Development & Development & Support & Development & Maintenance Support DevSecOps Support\\n\\nSreeram Kolisetty - MD Pradeep 7M Rahul - Sivaraman - reno Product & CTO Support Rekha Jawali - HR & General Administration\\n\\n© Sellogs Metamediary Solutions Pvt Ltd 2025\\n\\n4')]"
      ]
     },
     "execution_count": 53,
     "metadata": {},
     "output_type": "execute_result"
    }
   ],
   "source": [
    "retreiver.invoke(\"Who is CTO of sellogs?\")"
   ]
  },
  {
   "cell_type": "code",
   "execution_count": 61,
   "id": "b050b0ee",
   "metadata": {},
   "outputs": [],
   "source": [
    "rag_chain=create_retrieval_chain(retreiver, chain)"
   ]
  },
  {
   "cell_type": "code",
   "execution_count": 62,
   "id": "da399a46",
   "metadata": {},
   "outputs": [
    {
     "data": {
      "text/plain": [
       "{'input': 'Who handles Infrastructure support?',\n",
       " 'context': [Document(id='69aa36df-6a5d-4c19-9925-e32fd0f8f207', metadata={'source': 'C:\\\\Users\\\\HP\\\\OneDrive\\\\Desktop\\\\Langchain Chatbot Project 1\\\\Project\\\\SOLOS-Chatbot\\\\data\\\\Corporate Sales deck.pdf'}, page_content='Fixed/Dynamic Route Planning\\n\\n\\n\\nSelf Invoice Portal for\\n\\nShipment Profile and Load Split Options\\n\\nTransporters & Audited\\n\\nFreight Bills\\n\\n\\n\\n\\n\\nGeo-Fencing of Consignee Location & POD Trigger\\n\\nAuto Generated\\n\\nINVOICE = Oey,\\n\\n\\n\\n\\n\\n\\n\\n\\n\\n\\n\\n\\n\\nAuto Generated Consignment Note\\n\\n\\n\\n\\n\\nVendor\\n\\n\\n\\n\\n\\nInvozase\\n\\n\\n\\n\\n\\n\\n\\nAutomated Allocation based on Contract / Rating / Capacity\\n\\n\\n\\n\\n\\n\\n\\n\\n\\nMobile Based Scanning of Load Sheet\\n\\nDispatch Checklist'),\n",
       "  Document(id='658cd677-86d5-4661-9070-b78b4933a782', metadata={'source': 'C:\\\\Users\\\\HP\\\\OneDrive\\\\Desktop\\\\Langchain Chatbot Project 1\\\\Project\\\\SOLOS-Chatbot\\\\data\\\\Corporate Sales deck.pdf'}, page_content='Ranjith Kedia - CEO\\n\\nSanskar Sanskar - Marketing Sales Sourav Suman\\n\\nPradeep Sivaraman - CTO Sajeesh - Amala Devi - Hemanth - Mohit - New Product Product Infrastructure Product Development & Development & Support & Development & Maintenance Support DevSecOps Support\\n\\nSreeram Kolisetty - MD Pradeep 7M Rahul - Sivaraman - reno Product & CTO Support Rekha Jawali - HR & General Administration\\n\\n© Sellogs Metamediary Solutions Pvt Ltd 2025\\n\\n4')],\n",
       " 'answer': 'Based on the information provided in the document, it appears that Sajeesh and Hemanth are responsible for infrastructure support.'}"
      ]
     },
     "execution_count": 62,
     "metadata": {},
     "output_type": "execute_result"
    }
   ],
   "source": [
    "rag_chain.invoke({\"input\":\"Who handles Infrastructure support?\"})"
   ]
  },
  {
   "cell_type": "code",
   "execution_count": null,
   "id": "f1893b7c",
   "metadata": {},
   "outputs": [],
   "source": []
  }
 ],
 "metadata": {
  "kernelspec": {
   "display_name": "venv",
   "language": "python",
   "name": "python3"
  },
  "language_info": {
   "codemirror_mode": {
    "name": "ipython",
    "version": 3
   },
   "file_extension": ".py",
   "mimetype": "text/x-python",
   "name": "python",
   "nbconvert_exporter": "python",
   "pygments_lexer": "ipython3",
   "version": "3.13.2"
  }
 },
 "nbformat": 4,
 "nbformat_minor": 5
}
